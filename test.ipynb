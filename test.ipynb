{
 "cells": [
  {
   "cell_type": "code",
   "execution_count": 22,
   "metadata": {},
   "outputs": [],
   "source": [
    "import numpy as np\n",
    "import pyvista as pv\n",
    "# from mesh_utils import *"
   ]
  },
  {
   "cell_type": "code",
   "execution_count": 17,
   "metadata": {},
   "outputs": [],
   "source": [
    "mesh = pv.read('/home/pandu/Panresearch_local/PPP_FPC/code_steady/results/test_results_1_2000_200_4/show/show110.vtk')"
   ]
  },
  {
   "cell_type": "code",
   "execution_count": 33,
   "metadata": {},
   "outputs": [
    {
     "data": {
      "text/plain": [
       "array([1, 0, 0])"
      ]
     },
     "execution_count": 33,
     "metadata": {},
     "output_type": "execute_result"
    }
   ],
   "source": [
    "id = [True, False, False]\n",
    "\n",
    "a = np.array(id)\n",
    "a*1"
   ]
  },
  {
   "cell_type": "code",
   "execution_count": 30,
   "metadata": {},
   "outputs": [
    {
     "data": {
      "text/plain": [
       "0"
      ]
     },
     "execution_count": 30,
     "metadata": {},
     "output_type": "execute_result"
    }
   ],
   "source": [
    "f = lambda x: 1 if x==True else 0\n"
   ]
  },
  {
   "cell_type": "code",
   "execution_count": 6,
   "metadata": {},
   "outputs": [],
   "source": [
    "pack = np.load('./data/inlet_x0.2_y0.5.npz')"
   ]
  },
  {
   "cell_type": "code",
   "execution_count": 12,
   "metadata": {},
   "outputs": [
    {
     "data": {
      "text/plain": [
       "(10000,)"
      ]
     },
     "execution_count": 12,
     "metadata": {},
     "output_type": "execute_result"
    }
   ],
   "source": [
    "pack['arr_3'].shape"
   ]
  },
  {
   "cell_type": "code",
   "execution_count": 15,
   "metadata": {},
   "outputs": [
    {
     "name": "stderr",
     "output_type": "stream",
     "text": [
      "/home/pandu/anaconda3/envs/graphhw/lib/python3.10/site-packages/tqdm/auto.py:22: TqdmWarning: IProgress not found. Please update jupyter and ipywidgets. See https://ipywidgets.readthedocs.io/en/stable/user_install.html\n",
      "  from .autonotebook import tqdm as notebook_tqdm\n"
     ]
    },
    {
     "data": {
      "text/plain": [
       "torch.Size([1])"
      ]
     },
     "execution_count": 15,
     "metadata": {},
     "output_type": "execute_result"
    }
   ],
   "source": [
    "import pyvista as pv\n",
    "import torch\n",
    "\n",
    "m = torch.tensor([0.2])\n",
    "m.size()"
   ]
  },
  {
   "cell_type": "code",
   "execution_count": 14,
   "metadata": {},
   "outputs": [
    {
     "name": "stderr",
     "output_type": "stream",
     "text": [
      "/home/pandu/anaconda3/envs/graphhw/lib/python3.10/site-packages/pyvista/core/dataset.py:876: RuntimeWarning: All-NaN axis encountered\n",
      "  return np.nanmin(arr), np.nanmax(arr)\n"
     ]
    },
    {
     "data": {
      "text/html": [
       "<table><tr><th>Header</th><th>Data Arrays</th></tr><tr><td>\n",
       "<table>\n",
       "<tr><th>UnstructuredGrid</th><th>Information</th></tr>\n",
       "<tr><td>N Cells</td><td>1684</td></tr>\n",
       "<tr><td>N Points</td><td>926</td></tr>\n",
       "<tr><td>X Bounds</td><td>-3.637e+01, 4.906e+01</td></tr>\n",
       "<tr><td>Y Bounds</td><td>-2.678e+01, 8.358e+01</td></tr>\n",
       "<tr><td>Z Bounds</td><td>0.000e+00, 0.000e+00</td></tr>\n",
       "<tr><td>N Arrays</td><td>11</td></tr>\n",
       "</table>\n",
       "\n",
       "</td><td>\n",
       "<table>\n",
       "<tr><th>Name</th><th>Field</th><th>Type</th><th>N Comp</th><th>Min</th><th>Max</th></tr>\n",
       "<tr><td><b>label_P</b></td><td>Points</td><td>float32</td><td>1</td><td>-1.979e-02</td><td>7.360e-02</td></tr>\n",
       "<tr><td>Velocity</td><td>Points</td><td>float64</td><td>3</td><td>-8.771e-01</td><td>8.791e-01</td></tr>\n",
       "<tr><td>Pressure</td><td>Points</td><td>float64</td><td>1</td><td>-8.778e-02</td><td>9.638e-01</td></tr>\n",
       "<tr><td>Pressure_Coefficient</td><td>Points</td><td>float64</td><td>1</td><td>-1.756e-01</td><td>1.927e+00</td></tr>\n",
       "<tr><td>Laminar_Viscosity</td><td>Points</td><td>float64</td><td>1</td><td>3.113e-09</td><td>3.113e-09</td></tr>\n",
       "<tr><td>Skin_Friction_Coefficient</td><td>Points</td><td>float64</td><td>3</td><td>-1.435e-09</td><td>2.835e-09</td></tr>\n",
       "<tr><td>Thermal_Conductivity</td><td>Points</td><td>float64</td><td>1</td><td>1.252e-03</td><td>1.252e-03</td></tr>\n",
       "<tr><td>Vorticity</td><td>Points</td><td>float64</td><td>3</td><td>0.000e+00</td><td>0.000e+00</td></tr>\n",
       "<tr><td>prediction_V</td><td>Points</td><td>float32</td><td>2</td><td>nan</td><td>nan</td></tr>\n",
       "<tr><td>prediction_P</td><td>Points</td><td>float32</td><td>1</td><td>nan</td><td>nan</td></tr>\n",
       "<tr><td>label_V</td><td>Points</td><td>float32</td><td>2</td><td>-3.475e-01</td><td>3.225e-01</td></tr>\n",
       "</table>\n",
       "\n",
       "</td></tr> </table>"
      ],
      "text/plain": [
       "UnstructuredGrid (0x7efc18bde1a0)\n",
       "  N Cells:\t1684\n",
       "  N Points:\t926\n",
       "  X Bounds:\t-3.637e+01, 4.906e+01\n",
       "  Y Bounds:\t-2.678e+01, 8.358e+01\n",
       "  Z Bounds:\t0.000e+00, 0.000e+00\n",
       "  N Arrays:\t11"
      ]
     },
     "execution_count": 14,
     "metadata": {},
     "output_type": "execute_result"
    }
   ],
   "source": [
    "pv.read('/home/pandu/Panresearch_local/PPP_FPC/code_steady/results/test_results_1_2000_500_4/prediction/mesh_0.vtk')"
   ]
  },
  {
   "cell_type": "code",
   "execution_count": null,
   "metadata": {},
   "outputs": [],
   "source": []
  }
 ],
 "metadata": {
  "kernelspec": {
   "display_name": "Python 3.10.6 64-bit ('graphhw')",
   "language": "python",
   "name": "python3"
  },
  "language_info": {
   "codemirror_mode": {
    "name": "ipython",
    "version": 3
   },
   "file_extension": ".py",
   "mimetype": "text/x-python",
   "name": "python",
   "nbconvert_exporter": "python",
   "pygments_lexer": "ipython3",
   "version": "3.10.6"
  },
  "orig_nbformat": 4,
  "vscode": {
   "interpreter": {
    "hash": "f71c94310fe75a26beffc5d21a53b2d51a0e2036c33b8d6720706b8760a3f102"
   }
  }
 },
 "nbformat": 4,
 "nbformat_minor": 2
}
